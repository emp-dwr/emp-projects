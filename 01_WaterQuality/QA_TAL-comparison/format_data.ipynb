{
 "cells": [
  {
   "cell_type": "code",
   "execution_count": 1,
   "metadata": {},
   "outputs": [],
   "source": [
    "from extract_data import extract_pdfs, clean_data"
   ]
  },
  {
   "cell_type": "code",
   "execution_count": 2,
   "metadata": {},
   "outputs": [],
   "source": [
    "# read for 2023\n",
    "df_three = extract_pdfs('2023')\n",
    "\n",
    "# read for 2024\n",
    "df_four = extract_pdfs('2024')"
   ]
  },
  {
   "cell_type": "code",
   "execution_count": null,
   "metadata": {},
   "outputs": [
    {
     "ename": "IndexError",
     "evalue": "list index out of range",
     "output_type": "error",
     "traceback": [
      "\u001b[31m---------------------------------------------------------------------------\u001b[39m",
      "\u001b[31mIndexError\u001b[39m                                Traceback (most recent call last)",
      "\u001b[36mCell\u001b[39m\u001b[36m \u001b[39m\u001b[32mIn[3]\u001b[39m\u001b[32m, line 1\u001b[39m\n\u001b[32m----> \u001b[39m\u001b[32m1\u001b[39m df_three_clean = \u001b[43mclean_data\u001b[49m\u001b[43m(\u001b[49m\u001b[43mdf_three\u001b[49m\u001b[43m)\u001b[49m\n\u001b[32m      2\u001b[39m df_four_clean = clean_data(df_four)\n",
      "\u001b[36mFile \u001b[39m\u001b[32mc:\\Coding\\emp-projects\\01_WaterQuality\\QA_TAL-comparison\\extract_data.py:132\u001b[39m, in \u001b[36mclean_data\u001b[39m\u001b[34m(df)\u001b[39m\n\u001b[32m    129\u001b[39m     \u001b[38;5;28;01mif\u001b[39;00m sub_end_idx \u001b[38;5;129;01mand\u001b[39;00m sub_end_idx[-\u001b[32m1\u001b[39m] <= blk.index[-\u001b[32m1\u001b[39m]:\n\u001b[32m    130\u001b[39m         sub_end_idx.append(blk.index[-\u001b[32m1\u001b[39m] + \u001b[32m1\u001b[39m)\n\u001b[32m--> \u001b[39m\u001b[32m132\u001b[39m     sub_start_idx = [i \u001b[38;5;28;01mfor\u001b[39;00m i \u001b[38;5;129;01min\u001b[39;00m sub_start_idx \u001b[38;5;28;01mif\u001b[39;00m i < \u001b[43msub_end_idx\u001b[49m\u001b[43m[\u001b[49m\u001b[43m-\u001b[49m\u001b[32;43m1\u001b[39;49m\u001b[43m]\u001b[49m]\n\u001b[32m    134\u001b[39m \u001b[38;5;28;01mfor\u001b[39;00m subblock_num \u001b[38;5;129;01min\u001b[39;00m \u001b[38;5;28mrange\u001b[39m(\u001b[38;5;28mlen\u001b[39m(sub_start_idx)):\n\u001b[32m    135\u001b[39m     start = sub_start_idx[subblock_num]\n",
      "\u001b[31mIndexError\u001b[39m: list index out of range"
     ]
    }
   ],
   "source": [
    "df_three_clean = clean_data(df_three)\n",
    "# df_four_clean = clean_data(df_four)"
   ]
  }
 ],
 "metadata": {
  "kernelspec": {
   "display_name": "pymain",
   "language": "python",
   "name": "python3"
  },
  "language_info": {
   "codemirror_mode": {
    "name": "ipython",
    "version": 3
   },
   "file_extension": ".py",
   "mimetype": "text/x-python",
   "name": "python",
   "nbconvert_exporter": "python",
   "pygments_lexer": "ipython3",
   "version": "3.13.2"
  }
 },
 "nbformat": 4,
 "nbformat_minor": 2
}
