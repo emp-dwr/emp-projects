{
 "cells": [
  {
   "cell_type": "code",
   "execution_count": 10,
   "metadata": {},
   "outputs": [],
   "source": [
    "import pandas as pd\n",
    "from extract_data import extract_pdfs, clean_data_three, clean_data_four"
   ]
  },
  {
   "cell_type": "code",
   "execution_count": 2,
   "metadata": {},
   "outputs": [],
   "source": [
    "# read for 2023\n",
    "df_three = extract_pdfs('2023')\n",
    "\n",
    "# read for 2024\n",
    "df_four = extract_pdfs('2024')"
   ]
  },
  {
   "cell_type": "code",
   "execution_count": 8,
   "metadata": {},
   "outputs": [],
   "source": [
    "df_three_clean = clean_data_three(df_three)\n",
    "df_four_clean = clean_data_four(df_four)"
   ]
  },
  {
   "cell_type": "code",
   "execution_count": 14,
   "metadata": {},
   "outputs": [],
   "source": [
    "df_clean = pd.concat([df_three_clean, df_four_clean], ignore_index=True)\n",
    "\n",
    "# would write to here, but permission denied\n",
    "\n",
    "# import os\n",
    "# \n",
    "# base_dir = os.path.expanduser('~')\n",
    "# fp_pdf_qa = os.path.join(\n",
    "#     base_dir,\n",
    "#     'California Department of Water Resources',\n",
    "#     'DWR-COI-QA - QASP09-Total Algae Sensor 2-Point Calibration Effectiveness Study',\n",
    "#     '02_Data'\n",
    "# )\n",
    "# output_path = os.path.join(fp_pdf_qa, 'results_cleaned.csv')\n",
    "\n",
    "# so save to local desktop instead\n",
    "df_clean.to_csv('C:/Users/sperry/Desktop/results_cleaned.csv', index=False)"
   ]
  }
 ],
 "metadata": {
  "kernelspec": {
   "display_name": "pymain",
   "language": "python",
   "name": "python3"
  },
  "language_info": {
   "codemirror_mode": {
    "name": "ipython",
    "version": 3
   },
   "file_extension": ".py",
   "mimetype": "text/x-python",
   "name": "python",
   "nbconvert_exporter": "python",
   "pygments_lexer": "ipython3",
   "version": "3.13.2"
  }
 },
 "nbformat": 4,
 "nbformat_minor": 2
}
