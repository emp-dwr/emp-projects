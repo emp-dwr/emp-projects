{
 "cells": [
  {
   "cell_type": "code",
   "execution_count": null,
   "metadata": {},
   "outputs": [],
   "source": [
    "from extract_data import extract_pdfs"
   ]
  },
  {
   "cell_type": "code",
   "execution_count": null,
   "metadata": {},
   "outputs": [],
   "source": [
    "# read for 2023\n",
    "df_three = extract_pdfs()\n",
    "\n",
    "# read for 2024\n",
    "# df_four = extract_pdfs('2024'))\n",
    "\n",
    "print(df_three.head())"
   ]
  }
 ],
 "metadata": {
  "kernelspec": {
   "display_name": "pymain",
   "language": "python",
   "name": "python3"
  },
  "language_info": {
   "name": "python",
   "version": "3.13.2"
  }
 },
 "nbformat": 4,
 "nbformat_minor": 2
}
