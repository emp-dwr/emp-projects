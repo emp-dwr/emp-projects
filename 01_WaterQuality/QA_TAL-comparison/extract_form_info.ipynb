{
 "cells": [
  {
   "cell_type": "code",
   "execution_count": null,
   "metadata": {},
   "outputs": [
    {
     "name": "stdout",
     "output_type": "stream",
     "text": [
      "hi\n"
     ]
    }
   ],
   "source": [
    "import fitz\n",
    "import pandas as pd\n",
    "df = pd.DataFrame(fields)\n",
    "print(df)\n"
   ]
  },
  {
   "cell_type": "code",
   "execution_count": 6,
   "metadata": {},
   "outputs": [],
   "source": [
    "import fitz\n",
    "import pandas as pd"
   ]
  },
  {
   "cell_type": "code",
   "execution_count": 3,
   "metadata": {},
   "outputs": [],
   "source": [
    "doc = fitz.open(\"C:/Users/sperry/Downloads/TAL-FRM-043_v2.0_Cox_231218_1.pdf\")\n",
    "fields = []"
   ]
  },
  {
   "cell_type": "code",
   "execution_count": 5,
   "metadata": {},
   "outputs": [],
   "source": [
    "for page in doc:\n",
    "    for widget in page.widgets():\n",
    "        fields.append({\n",
    "            \"field_name\": widget.field_name,\n",
    "            \"field_value\": widget.field_value\n",
    "        })"
   ]
  },
  {
   "cell_type": "code",
   "execution_count": 7,
   "metadata": {},
   "outputs": [
    {
     "name": "stdout",
     "output_type": "stream",
     "text": [
      "                                            field_name      field_value\n",
      "0                                        Standard name       FWT Red 25\n",
      "1                                Standard manufacturer        Kingscote\n",
      "2         Stock solution 125 mgL prepared by full name  Michelle Nelson\n",
      "3                                                 Date       10/23/2023\n",
      "4    Calibration standard 0625 mgL prepared by full...  Michelle Nelson\n",
      "..                                                 ...              ...\n",
      "389                                          TempgL_24                 \n",
      "390                                           000gL_12                 \n",
      "391                                        PreCalgL_12                 \n",
      "392                                       PostCalgL_12                 \n",
      "393                                             Notes6                 \n",
      "\n",
      "[394 rows x 2 columns]\n"
     ]
    }
   ],
   "source": [
    "df = pd.DataFrame(fields)\n",
    "print(df)"
   ]
  },
  {
   "cell_type": "code",
   "execution_count": null,
   "metadata": {},
   "outputs": [],
   "source": []
  }
 ],
 "metadata": {
  "kernelspec": {
   "display_name": "base",
   "language": "python",
   "name": "python3"
  },
  "language_info": {
   "codemirror_mode": {
    "name": "ipython",
    "version": 3
   },
   "file_extension": ".py",
   "mimetype": "text/x-python",
   "name": "python",
   "nbconvert_exporter": "python",
   "pygments_lexer": "ipython3",
   "version": "3.12.7"
  }
 },
 "nbformat": 4,
 "nbformat_minor": 2
}
