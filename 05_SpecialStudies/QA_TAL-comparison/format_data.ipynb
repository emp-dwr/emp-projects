{
 "cells": [
  {
   "cell_type": "code",
   "execution_count": 1,
   "metadata": {},
   "outputs": [],
   "source": [
    "import pandas as pd\n",
    "from extract_data import extract_pdfs, clean_data"
   ]
  },
  {
   "cell_type": "code",
   "execution_count": 2,
   "metadata": {},
   "outputs": [],
   "source": [
    "# read for 2023\n",
    "df_three = extract_pdfs('2023')\n",
    "\n",
    "# read for 2024\n",
    "df_four = extract_pdfs('2024')"
   ]
  },
  {
   "cell_type": "code",
   "execution_count": 3,
   "metadata": {},
   "outputs": [],
   "source": [
    "# clean 2023 data\n",
    "df_three_clean = clean_data(df_three, mode='2023')\n",
    "\n",
    "# clean 2024 data\n",
    "df_four_clean = clean_data(df_four, mode='2024')\n",
    "\n",
    "# combine dataframes, sort\n",
    "df_clean = pd.concat([df_three_clean, df_four_clean], ignore_index=True)\n",
    "df_clean = df_clean.sort_values(by=['CalibDate', 'OrigSondeID'], ignore_index=True)"
   ]
  },
  {
   "cell_type": "code",
   "execution_count": 4,
   "metadata": {},
   "outputs": [],
   "source": [
    "# would write to here, but permission denied\n",
    "\n",
    "# import os\n",
    "# \n",
    "# base_dir = os.path.expanduser('~')\n",
    "# fp_pdf_qa = os.path.join(\n",
    "#     base_dir,\n",
    "#     'California Department of Water Resources',\n",
    "#     'DWR-COI-QA - QASP09-Total Algae Sensor 2-Point Calibration Effectiveness Study',\n",
    "#     '02_Data'\n",
    "# )\n",
    "# fp_output = os.path.join(fp_pdf_qa, 'results_cleaned.csv')\n",
    "\n",
    "# so save to local desktop instead\n",
    "fp_output = 'C:/Users/sperry/Desktop/results_cleaned.csv'\n",
    "\n",
    "df_clean.to_csv(fp_output, index=False)"
   ]
  }
 ],
 "metadata": {
  "kernelspec": {
   "display_name": "pymain",
   "language": "python",
   "name": "python3"
  },
  "language_info": {
   "codemirror_mode": {
    "name": "ipython",
    "version": 3
   },
   "file_extension": ".py",
   "mimetype": "text/x-python",
   "name": "python",
   "nbconvert_exporter": "python",
   "pygments_lexer": "ipython3",
   "version": "3.13.2"
  }
 },
 "nbformat": 4,
 "nbformat_minor": 2
}
